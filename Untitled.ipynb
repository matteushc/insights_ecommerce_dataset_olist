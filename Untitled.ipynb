{
 "cells": [
  {
   "cell_type": "code",
   "execution_count": 4,
   "metadata": {},
   "outputs": [],
   "source": [
    "import pandas as pd\n",
    "import numpy as np"
   ]
  },
  {
   "cell_type": "code",
   "execution_count": 34,
   "metadata": {},
   "outputs": [
    {
     "data": {
      "text/html": [
       "<div>\n",
       "<style scoped>\n",
       "    .dataframe tbody tr th:only-of-type {\n",
       "        vertical-align: middle;\n",
       "    }\n",
       "\n",
       "    .dataframe tbody tr th {\n",
       "        vertical-align: top;\n",
       "    }\n",
       "\n",
       "    .dataframe thead th {\n",
       "        text-align: right;\n",
       "    }\n",
       "</style>\n",
       "<table border=\"1\" class=\"dataframe\">\n",
       "  <thead>\n",
       "    <tr style=\"text-align: right;\">\n",
       "      <th>time_to_delivered</th>\n",
       "      <th>advanced</th>\n",
       "      <th>late</th>\n",
       "    </tr>\n",
       "    <tr>\n",
       "      <th>customer_unique_id</th>\n",
       "      <th></th>\n",
       "      <th></th>\n",
       "    </tr>\n",
       "  </thead>\n",
       "  <tbody>\n",
       "    <tr>\n",
       "      <th>0bb98ba72dcc08e95f9d8cc434e9a2cc</th>\n",
       "      <td>0</td>\n",
       "      <td>1</td>\n",
       "    </tr>\n",
       "    <tr>\n",
       "      <th>840f10bde3c94907105e032d9c2fec3b</th>\n",
       "      <td>2</td>\n",
       "      <td>1</td>\n",
       "    </tr>\n",
       "    <tr>\n",
       "      <th>e7c828d22c0682c1565252deefbe334d</th>\n",
       "      <td>1</td>\n",
       "      <td>0</td>\n",
       "    </tr>\n",
       "  </tbody>\n",
       "</table>\n",
       "</div>"
      ],
      "text/plain": [
       "time_to_delivered                 advanced  late\n",
       "customer_unique_id                              \n",
       "0bb98ba72dcc08e95f9d8cc434e9a2cc         0     1\n",
       "840f10bde3c94907105e032d9c2fec3b         2     1\n",
       "e7c828d22c0682c1565252deefbe334d         1     0"
      ]
     },
     "execution_count": 34,
     "metadata": {},
     "output_type": "execute_result"
    }
   ],
   "source": [
    "#df2 = pd.DataFrame({'A' : ['foo', 'foo', 'foo', 'foo'], 'B' : ['one','one','one','two'], 'C' : ['small','large','large','small'], 'D' : [1,2,2,3]})\n",
    "#df2 = pd.DataFrame({'A' : ['foo', 'foo', 'foo', 'foo'], 'B' : ['one','one','one','two']})\n",
    "\n",
    "df2 = pd.DataFrame({'customer_unique_id' : ['e7c828d22c0682c1565252deefbe334d', \n",
    "                                            '0bb98ba72dcc08e95f9d8cc434e9a2cc', \n",
    "                                            '840f10bde3c94907105e032d9c2fec3b', \n",
    "                                            '840f10bde3c94907105e032d9c2fec3b',\n",
    "                                           '840f10bde3c94907105e032d9c2fec3b'], \n",
    "                    'time_to_delivered' : ['advanced','late','late','advanced', 'advanced']})\n",
    "\n",
    "df2.head()\n",
    "\n",
    "table = pd.pivot_table(df2, values=['customer_unique_id'], index=['customer_unique_id'], fill_value=0, columns=['time_to_delivered'], aggfunc=lambda x: len(x))\n",
    "table.head()"
   ]
  }
 ],
 "metadata": {
  "kernelspec": {
   "display_name": "Python 3",
   "language": "python",
   "name": "python3"
  },
  "language_info": {
   "codemirror_mode": {
    "name": "ipython",
    "version": 3
   },
   "file_extension": ".py",
   "mimetype": "text/x-python",
   "name": "python",
   "nbconvert_exporter": "python",
   "pygments_lexer": "ipython3",
   "version": "3.7.3"
  }
 },
 "nbformat": 4,
 "nbformat_minor": 2
}
